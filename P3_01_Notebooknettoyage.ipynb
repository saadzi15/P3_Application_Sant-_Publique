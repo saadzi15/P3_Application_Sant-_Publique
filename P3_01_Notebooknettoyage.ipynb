{
 "cells": [
  {
   "cell_type": "markdown",
   "id": "da293a03",
   "metadata": {},
   "source": [
    "# Import des librairies"
   ]
  },
  {
   "cell_type": "code",
   "execution_count": 1,
   "id": "52ea9d47",
   "metadata": {},
   "outputs": [],
   "source": [
    "import numpy as np\n",
    "import pandas as pd\n",
    "import scipy.stats as stats\n",
    "\n",
    "import matplotlib.pyplot as plt\n",
    "import seaborn as sns"
   ]
  },
  {
   "cell_type": "markdown",
   "id": "6ceaba29",
   "metadata": {},
   "source": [
    "# Chargement du fichier"
   ]
  },
  {
   "cell_type": "code",
   "execution_count": 2,
   "id": "35cb120a",
   "metadata": {},
   "outputs": [],
   "source": [
    "data = pd.read_csv('fr.openfoodfacts.org.products.csv', sep=\"\\t\", encoding='utf_8', low_memory=False)"
   ]
  },
  {
   "cell_type": "markdown",
   "id": "53606c7d",
   "metadata": {},
   "source": [
    "# Analyse du fichier"
   ]
  },
  {
   "cell_type": "code",
   "execution_count": 3,
   "id": "438b6862",
   "metadata": {},
   "outputs": [
    {
     "data": {
      "text/plain": [
       "(320772, 162)"
      ]
     },
     "execution_count": 3,
     "metadata": {},
     "output_type": "execute_result"
    }
   ],
   "source": [
    "data.shape"
   ]
  },
  {
   "cell_type": "code",
   "execution_count": 4,
   "id": "1d86e9b8",
   "metadata": {},
   "outputs": [
    {
     "data": {
      "text/html": [
       "<div>\n",
       "<style scoped>\n",
       "    .dataframe tbody tr th:only-of-type {\n",
       "        vertical-align: middle;\n",
       "    }\n",
       "\n",
       "    .dataframe tbody tr th {\n",
       "        vertical-align: top;\n",
       "    }\n",
       "\n",
       "    .dataframe thead th {\n",
       "        text-align: right;\n",
       "    }\n",
       "</style>\n",
       "<table border=\"1\" class=\"dataframe\">\n",
       "  <thead>\n",
       "    <tr style=\"text-align: right;\">\n",
       "      <th></th>\n",
       "      <th>code</th>\n",
       "      <th>url</th>\n",
       "      <th>creator</th>\n",
       "      <th>created_t</th>\n",
       "      <th>created_datetime</th>\n",
       "      <th>last_modified_t</th>\n",
       "      <th>last_modified_datetime</th>\n",
       "      <th>product_name</th>\n",
       "      <th>generic_name</th>\n",
       "      <th>quantity</th>\n",
       "      <th>...</th>\n",
       "      <th>ph_100g</th>\n",
       "      <th>fruits-vegetables-nuts_100g</th>\n",
       "      <th>collagen-meat-protein-ratio_100g</th>\n",
       "      <th>cocoa_100g</th>\n",
       "      <th>chlorophyl_100g</th>\n",
       "      <th>carbon-footprint_100g</th>\n",
       "      <th>nutrition-score-fr_100g</th>\n",
       "      <th>nutrition-score-uk_100g</th>\n",
       "      <th>glycemic-index_100g</th>\n",
       "      <th>water-hardness_100g</th>\n",
       "    </tr>\n",
       "  </thead>\n",
       "  <tbody>\n",
       "    <tr>\n",
       "      <th>0</th>\n",
       "      <td>0000000003087</td>\n",
       "      <td>http://world-fr.openfoodfacts.org/produit/0000...</td>\n",
       "      <td>openfoodfacts-contributors</td>\n",
       "      <td>1474103866</td>\n",
       "      <td>2016-09-17T09:17:46Z</td>\n",
       "      <td>1474103893</td>\n",
       "      <td>2016-09-17T09:18:13Z</td>\n",
       "      <td>Farine de blé noir</td>\n",
       "      <td>NaN</td>\n",
       "      <td>1kg</td>\n",
       "      <td>...</td>\n",
       "      <td>NaN</td>\n",
       "      <td>NaN</td>\n",
       "      <td>NaN</td>\n",
       "      <td>NaN</td>\n",
       "      <td>NaN</td>\n",
       "      <td>NaN</td>\n",
       "      <td>NaN</td>\n",
       "      <td>NaN</td>\n",
       "      <td>NaN</td>\n",
       "      <td>NaN</td>\n",
       "    </tr>\n",
       "    <tr>\n",
       "      <th>1</th>\n",
       "      <td>0000000004530</td>\n",
       "      <td>http://world-fr.openfoodfacts.org/produit/0000...</td>\n",
       "      <td>usda-ndb-import</td>\n",
       "      <td>1489069957</td>\n",
       "      <td>2017-03-09T14:32:37Z</td>\n",
       "      <td>1489069957</td>\n",
       "      <td>2017-03-09T14:32:37Z</td>\n",
       "      <td>Banana Chips Sweetened (Whole)</td>\n",
       "      <td>NaN</td>\n",
       "      <td>NaN</td>\n",
       "      <td>...</td>\n",
       "      <td>NaN</td>\n",
       "      <td>NaN</td>\n",
       "      <td>NaN</td>\n",
       "      <td>NaN</td>\n",
       "      <td>NaN</td>\n",
       "      <td>NaN</td>\n",
       "      <td>14.0</td>\n",
       "      <td>14.0</td>\n",
       "      <td>NaN</td>\n",
       "      <td>NaN</td>\n",
       "    </tr>\n",
       "    <tr>\n",
       "      <th>2</th>\n",
       "      <td>0000000004559</td>\n",
       "      <td>http://world-fr.openfoodfacts.org/produit/0000...</td>\n",
       "      <td>usda-ndb-import</td>\n",
       "      <td>1489069957</td>\n",
       "      <td>2017-03-09T14:32:37Z</td>\n",
       "      <td>1489069957</td>\n",
       "      <td>2017-03-09T14:32:37Z</td>\n",
       "      <td>Peanuts</td>\n",
       "      <td>NaN</td>\n",
       "      <td>NaN</td>\n",
       "      <td>...</td>\n",
       "      <td>NaN</td>\n",
       "      <td>NaN</td>\n",
       "      <td>NaN</td>\n",
       "      <td>NaN</td>\n",
       "      <td>NaN</td>\n",
       "      <td>NaN</td>\n",
       "      <td>0.0</td>\n",
       "      <td>0.0</td>\n",
       "      <td>NaN</td>\n",
       "      <td>NaN</td>\n",
       "    </tr>\n",
       "  </tbody>\n",
       "</table>\n",
       "<p>3 rows × 162 columns</p>\n",
       "</div>"
      ],
      "text/plain": [
       "            code                                                url  \\\n",
       "0  0000000003087  http://world-fr.openfoodfacts.org/produit/0000...   \n",
       "1  0000000004530  http://world-fr.openfoodfacts.org/produit/0000...   \n",
       "2  0000000004559  http://world-fr.openfoodfacts.org/produit/0000...   \n",
       "\n",
       "                      creator   created_t      created_datetime  \\\n",
       "0  openfoodfacts-contributors  1474103866  2016-09-17T09:17:46Z   \n",
       "1             usda-ndb-import  1489069957  2017-03-09T14:32:37Z   \n",
       "2             usda-ndb-import  1489069957  2017-03-09T14:32:37Z   \n",
       "\n",
       "  last_modified_t last_modified_datetime                    product_name  \\\n",
       "0      1474103893   2016-09-17T09:18:13Z              Farine de blé noir   \n",
       "1      1489069957   2017-03-09T14:32:37Z  Banana Chips Sweetened (Whole)   \n",
       "2      1489069957   2017-03-09T14:32:37Z                         Peanuts   \n",
       "\n",
       "  generic_name quantity  ... ph_100g fruits-vegetables-nuts_100g  \\\n",
       "0          NaN      1kg  ...     NaN                         NaN   \n",
       "1          NaN      NaN  ...     NaN                         NaN   \n",
       "2          NaN      NaN  ...     NaN                         NaN   \n",
       "\n",
       "  collagen-meat-protein-ratio_100g cocoa_100g chlorophyl_100g  \\\n",
       "0                              NaN        NaN             NaN   \n",
       "1                              NaN        NaN             NaN   \n",
       "2                              NaN        NaN             NaN   \n",
       "\n",
       "  carbon-footprint_100g nutrition-score-fr_100g nutrition-score-uk_100g  \\\n",
       "0                   NaN                     NaN                     NaN   \n",
       "1                   NaN                    14.0                    14.0   \n",
       "2                   NaN                     0.0                     0.0   \n",
       "\n",
       "  glycemic-index_100g water-hardness_100g  \n",
       "0                 NaN                 NaN  \n",
       "1                 NaN                 NaN  \n",
       "2                 NaN                 NaN  \n",
       "\n",
       "[3 rows x 162 columns]"
      ]
     },
     "execution_count": 4,
     "metadata": {},
     "output_type": "execute_result"
    }
   ],
   "source": [
    "data.head(3)"
   ]
  },
  {
   "cell_type": "code",
   "execution_count": 5,
   "id": "8317d69e",
   "metadata": {},
   "outputs": [
    {
     "data": {
      "text/plain": [
       "code                        object\n",
       "url                         object\n",
       "creator                     object\n",
       "created_t                   object\n",
       "created_datetime            object\n",
       "                            ...   \n",
       "carbon-footprint_100g      float64\n",
       "nutrition-score-fr_100g    float64\n",
       "nutrition-score-uk_100g    float64\n",
       "glycemic-index_100g        float64\n",
       "water-hardness_100g        float64\n",
       "Length: 162, dtype: object"
      ]
     },
     "execution_count": 5,
     "metadata": {},
     "output_type": "execute_result"
    }
   ],
   "source": [
    "data.dtypes"
   ]
  },
  {
   "cell_type": "markdown",
   "id": "8ac6b913",
   "metadata": {},
   "source": [
    "Le jeu de données comporte donc massivement :\n",
    "Des informations générales sur la fiche produit\n",
    "Les ingrédients et additifs contenus dans les produits\n",
    "Des informations nutritionnelles"
   ]
  },
  {
   "cell_type": "markdown",
   "id": "fe869840",
   "metadata": {},
   "source": [
    "L'idée d'application est d'estimer un score \"Healthy\" pour les aliments que nous consommons, en nous basant sur le nutriscore et sur les valeurs énergétiques, nutritionnelles, les additifs, la présence d'huile de palme...\n",
    "Notre application s'appellera \"Score your food\"\n",
    "Pour ce faire, nous choisirons des indicateurs pertinents pour notre étude."
   ]
  },
  {
   "cell_type": "markdown",
   "id": "448609d2",
   "metadata": {},
   "source": [
    "# Traitement valeurs manquantes\n",
    "Nous avons plusieurs valeurs manquantes dans ce jeu de données. Voyons d'abord voir le pourcentage de valeurs :"
   ]
  },
  {
   "cell_type": "code",
   "execution_count": 6,
   "id": "acfbc6a7",
   "metadata": {},
   "outputs": [
    {
     "data": {
      "text/plain": [
       "code                         0.007170\n",
       "url                          0.007170\n",
       "creator                      0.000623\n",
       "created_t                    0.000935\n",
       "created_datetime             0.002806\n",
       "                              ...    \n",
       "carbon-footprint_100g       99.916452\n",
       "nutrition-score-fr_100g     31.038245\n",
       "nutrition-score-uk_100g     31.038245\n",
       "glycemic-index_100g        100.000000\n",
       "water-hardness_100g        100.000000\n",
       "Length: 162, dtype: float64"
      ]
     },
     "execution_count": 6,
     "metadata": {},
     "output_type": "execute_result"
    }
   ],
   "source": [
    "data.isnull().mean()*100"
   ]
  },
  {
   "cell_type": "code",
   "execution_count": 7,
   "id": "c70deaef",
   "metadata": {},
   "outputs": [
    {
     "data": {
      "text/plain": [
       "76.22157263195135"
      ]
     },
     "execution_count": 7,
     "metadata": {},
     "output_type": "execute_result"
    }
   ],
   "source": [
    "#pourcentatge de valeurs manquantes\n",
    "def pourcentage_nan(data=data):\n",
    "    somme = 0\n",
    "    for colonne in data.columns:\n",
    "        somme += data[colonne].isna().sum()\n",
    "    return (somme / (data.shape[0]*data.shape[1]))*100\n",
    "pourcentage_nan()"
   ]
  },
  {
   "cell_type": "markdown",
   "id": "b944ac02",
   "metadata": {},
   "source": [
    "Nous avons donc 76% de valeurs manquantes dans notre jeu de données. \n"
   ]
  },
  {
   "cell_type": "markdown",
   "id": "52b94885",
   "metadata": {},
   "source": [
    "1) Un grand nombre de données n'est pas renseigné pour la plupart des colonnes. Nous décidons donc de supprimer les features contenant moins de 25% de taux de remplissage, pour avoir un jeu de données plus nettoyé sans biaiser le dataset."
   ]
  },
  {
   "cell_type": "code",
   "execution_count": 8,
   "id": "f2da561a",
   "metadata": {},
   "outputs": [],
   "source": [
    "# suppression des colonnes avec plus de 75% de valeurs manquantes\n",
    "data = data.loc[:, data.isnull().mean() < .75]"
   ]
  },
  {
   "cell_type": "code",
   "execution_count": 9,
   "id": "fdb65488",
   "metadata": {},
   "outputs": [
    {
     "data": {
      "text/plain": [
       "code                                       0.000072\n",
       "url                                        0.000072\n",
       "creator                                    0.000006\n",
       "created_t                                  0.000009\n",
       "created_datetime                           0.000028\n",
       "last_modified_t                            0.000000\n",
       "last_modified_datetime                     0.000000\n",
       "product_name                               0.055373\n",
       "quantity                                   0.673229\n",
       "brands                                     0.088574\n",
       "brands_tags                                0.088599\n",
       "categories                                 0.736854\n",
       "categories_tags                            0.736919\n",
       "categories_fr                              0.736850\n",
       "countries                                  0.000873\n",
       "countries_tags                             0.000873\n",
       "countries_fr                               0.000873\n",
       "ingredients_text                           0.223866\n",
       "serving_size                               0.341180\n",
       "additives_n                                0.223938\n",
       "additives                                  0.224044\n",
       "additives_tags                             0.517788\n",
       "additives_fr                               0.517788\n",
       "ingredients_from_palm_oil_n                0.223938\n",
       "ingredients_that_may_be_from_palm_oil_n    0.223938\n",
       "nutrition_grade_fr                         0.310382\n",
       "pnns_groups_1                              0.714710\n",
       "pnns_groups_2                              0.705426\n",
       "states                                     0.000143\n",
       "states_tags                                0.000143\n",
       "states_fr                                  0.000143\n",
       "main_category                              0.736991\n",
       "main_category_fr                           0.736991\n",
       "energy_100g                                0.185986\n",
       "fat_100g                                   0.239675\n",
       "saturated-fat_100g                         0.284370\n",
       "trans-fat_100g                             0.553271\n",
       "cholesterol_100g                           0.550802\n",
       "carbohydrates_100g                         0.240620\n",
       "sugars_100g                                0.236308\n",
       "fiber_100g                                 0.373742\n",
       "proteins_100g                              0.189699\n",
       "salt_100g                                  0.203453\n",
       "sodium_100g                                0.203599\n",
       "vitamin-a_100g                             0.571178\n",
       "vitamin-c_100g                             0.560850\n",
       "calcium_100g                               0.560280\n",
       "iron_100g                                  0.562113\n",
       "nutrition-score-fr_100g                    0.310382\n",
       "nutrition-score-uk_100g                    0.310382\n",
       "dtype: float64"
      ]
     },
     "execution_count": 9,
     "metadata": {},
     "output_type": "execute_result"
    }
   ],
   "source": [
    "data.isnull().mean()"
   ]
  },
  {
   "cell_type": "markdown",
   "id": "f73affbe",
   "metadata": {},
   "source": [
    "Pour notre analyse, nous allons séparer nos colonnes en plusieurs sous-thématiquesNous devons prendre en compte les nutriments dans notre analyse. Les colonnes sur les nutriments sont mises sur notre dataset avec une fin de nomenclature qui est : \"_100g\". On crée donc une variable \"Nutri_100g\" et on convertit toutes les données en numérique."
   ]
  },
  {
   "cell_type": "code",
   "execution_count": 10,
   "id": "8cc8c3d5",
   "metadata": {},
   "outputs": [
    {
     "data": {
      "text/plain": [
       "Index(['fat_100g', 'saturated-fat_100g', 'trans-fat_100g', 'cholesterol_100g',\n",
       "       'carbohydrates_100g', 'sugars_100g', 'fiber_100g', 'proteins_100g',\n",
       "       'salt_100g', 'sodium_100g', 'vitamin-a_100g', 'vitamin-c_100g',\n",
       "       'calcium_100g', 'iron_100g'],\n",
       "      dtype='object')"
      ]
     },
     "execution_count": 10,
     "metadata": {},
     "output_type": "execute_result"
    }
   ],
   "source": [
    "Nutri_100g = data.columns[(data.columns.str.contains('_100g'))& ~(data.columns.str.contains('energy'))& ~(data.columns.str.contains('score'))]\n",
    "Nutri_100g"
   ]
  },
  {
   "cell_type": "code",
   "execution_count": 11,
   "id": "1f6ef980",
   "metadata": {},
   "outputs": [
    {
     "name": "stderr",
     "output_type": "stream",
     "text": [
      "C:\\Users\\nha5600\\AppData\\Local\\Temp/ipykernel_16140/1479007703.py:2: SettingWithCopyWarning: \n",
      "A value is trying to be set on a copy of a slice from a DataFrame.\n",
      "Try using .loc[row_indexer,col_indexer] = value instead\n",
      "\n",
      "See the caveats in the documentation: https://pandas.pydata.org/pandas-docs/stable/user_guide/indexing.html#returning-a-view-versus-a-copy\n",
      "  data[col] = pd.to_numeric(data[col])\n"
     ]
    }
   ],
   "source": [
    "for col in Nutri_100g:\n",
    "    data[col] = pd.to_numeric(data[col])"
   ]
  },
  {
   "cell_type": "markdown",
   "id": "d207002d",
   "metadata": {},
   "source": [
    "On crée des groupes de colonnes suivant le fichier csv mis à disposition : "
   ]
  },
  {
   "cell_type": "code",
   "execution_count": 12,
   "id": "1b34c367",
   "metadata": {},
   "outputs": [],
   "source": [
    "general = ['code', 'url', 'product_name', 'creator']\n",
    "tags = ['brands','categories_fr','countries_fr']\n",
    "misc = ['ingredients_text','serving_size','additives_fr','states_fr','main_category_fr']\n",
    "energy = ['energy_100g']\n",
    "nutrition_score = ['nutrition-score-fr_100g']\n",
    "grade = ['nutrition_grade_fr']\n",
    "additives = ['additives_n']\n",
    "palme = ['ingredients_from_palm_oil_n', 'ingredients_that_may_be_from_palm_oil_n']"
   ]
  },
  {
   "cell_type": "markdown",
   "id": "d9432551",
   "metadata": {},
   "source": [
    "Pour notre analyse, nous voyons d'où viennent la plupart de nos produits, afin de proposer des recommandations adaptées aux consommateurs. Nous supprimons les colonnes qui ne nous présentent pas d'intérêt puisque redondantes pour la suite de notre étude :"
   ]
  },
  {
   "cell_type": "code",
   "execution_count": 13,
   "id": "0c23d2d8",
   "metadata": {},
   "outputs": [
    {
     "name": "stderr",
     "output_type": "stream",
     "text": [
      "C:\\Users\\nha5600\\Anaconda3\\lib\\site-packages\\pandas\\core\\frame.py:4906: SettingWithCopyWarning: \n",
      "A value is trying to be set on a copy of a slice from a DataFrame\n",
      "\n",
      "See the caveats in the documentation: https://pandas.pydata.org/pandas-docs/stable/user_guide/indexing.html#returning-a-view-versus-a-copy\n",
      "  return super().drop(\n"
     ]
    }
   ],
   "source": [
    "#Suppression des colonnes de datetime qui n'ont pas d'intérêt \n",
    "temps_suppr = ['created_t',\n",
    " 'created_datetime',\n",
    " 'last_modified_t',\n",
    " 'last_modified_datetime',]\n",
    "\n",
    "# On garde les colonnes avec le suffixe_fr, qui sont les mêmes colonnes en plusieurs langues\n",
    "suff_suppr = ['brands_tags',\n",
    " 'categories',\n",
    " 'categories_tags',\n",
    " 'countries',\n",
    " 'countries_tags',\n",
    " 'additives',\n",
    " 'additives_tags',\n",
    " 'states',\n",
    " 'states_tags',\n",
    " 'main_category']\n",
    "\n",
    "data.drop(suff_suppr, axis=1, inplace=True)\n",
    "data.drop(temps_suppr, axis=1, inplace=True)"
   ]
  },
  {
   "cell_type": "markdown",
   "id": "c1a99978",
   "metadata": {},
   "source": [
    "On suppression les valeurs en doublon dans tout notre dataset :"
   ]
  },
  {
   "cell_type": "code",
   "execution_count": 14,
   "id": "28adf687",
   "metadata": {},
   "outputs": [
    {
     "name": "stderr",
     "output_type": "stream",
     "text": [
      "C:\\Users\\nha5600\\Anaconda3\\lib\\site-packages\\pandas\\util\\_decorators.py:311: SettingWithCopyWarning: \n",
      "A value is trying to be set on a copy of a slice from a DataFrame\n",
      "\n",
      "See the caveats in the documentation: https://pandas.pydata.org/pandas-docs/stable/user_guide/indexing.html#returning-a-view-versus-a-copy\n",
      "  return func(*args, **kwargs)\n"
     ]
    }
   ],
   "source": [
    "data.drop_duplicates(inplace=True)"
   ]
  },
  {
   "cell_type": "markdown",
   "id": "61d389b7",
   "metadata": {},
   "source": [
    "2) Traitement des NaN : On supprime les lignes qui n'ont pas de nom de code ou de produit (essentiels pour l'analyse) :"
   ]
  },
  {
   "cell_type": "code",
   "execution_count": 15,
   "id": "ea0a63e5",
   "metadata": {},
   "outputs": [],
   "source": [
    "data = data.dropna(subset=['code'])"
   ]
  },
  {
   "cell_type": "code",
   "execution_count": 16,
   "id": "abc4b7be",
   "metadata": {},
   "outputs": [],
   "source": [
    "data = data.dropna(subset=['product_name'])"
   ]
  },
  {
   "cell_type": "markdown",
   "id": "2625ad6d",
   "metadata": {},
   "source": [
    "2) Méthodes de traitement des valeurs manquantes : Par le remplacement des valeurs quantitatives (hors énergie et hors nutrition score) par la médiane"
   ]
  },
  {
   "cell_type": "code",
   "execution_count": 55,
   "id": "f01e5b6d",
   "metadata": {},
   "outputs": [],
   "source": [
    "data[Nutri_100g] = data[Nutri_100g].fillna(data[Nutri_100g].median())"
   ]
  },
  {
   "cell_type": "markdown",
   "id": "1d5c8fe2",
   "metadata": {},
   "source": [
    "3) Le même procédé va être utilisé pour le nutriscore, pour ne pas biaiser les données. "
   ]
  },
  {
   "cell_type": "code",
   "execution_count": 19,
   "id": "7a8ef516",
   "metadata": {},
   "outputs": [
    {
     "name": "stdout",
     "output_type": "stream",
     "text": [
      "[10.0]\n"
     ]
    }
   ],
   "source": [
    "mediane_score = list(data[[\"nutrition-score-fr_100g\"]].quantile(0.5))\n",
    "print(mediane_score)"
   ]
  },
  {
   "cell_type": "markdown",
   "id": "fb161340",
   "metadata": {},
   "source": [
    "On attribue donc la valeur de la médiane pour les valeurs manquantes de notre nutrition_score, puis on transforme les valeurs en entier."
   ]
  },
  {
   "cell_type": "code",
   "execution_count": 20,
   "id": "7d2492f5",
   "metadata": {},
   "outputs": [],
   "source": [
    "data.loc[data['nutrition-score-fr_100g'].isna(), 'nutrition-score-fr_100g'] = data['nutrition-score-fr_100g'].median()"
   ]
  },
  {
   "cell_type": "code",
   "execution_count": 21,
   "id": "7654489e",
   "metadata": {},
   "outputs": [],
   "source": [
    "data[\"nutrition-score-fr_100g\"]=data[\"nutrition-score-fr_100g\"].astype('int')"
   ]
  },
  {
   "cell_type": "markdown",
   "id": "ad47178a",
   "metadata": {},
   "source": [
    "4) Traitement des valeurs manquantes : On supprime les \"NaN\" présentes pour notre data_nutrition_grade. En effet, en remplaçant les données par la valeur médiane (obtenue en allant sur la médiane du nutriscore correspondant à 10 et donc à c), nos analyses seront biaisées et faussées."
   ]
  },
  {
   "cell_type": "code",
   "execution_count": 22,
   "id": "2ecf55be",
   "metadata": {},
   "outputs": [],
   "source": [
    "data = data.dropna(subset=['nutrition_grade_fr'])"
   ]
  },
  {
   "cell_type": "code",
   "execution_count": 23,
   "id": "890499c8",
   "metadata": {},
   "outputs": [
    {
     "data": {
      "text/plain": [
       "d    62019\n",
       "c    44960\n",
       "e    42377\n",
       "a    35297\n",
       "b    33810\n",
       "Name: nutrition_grade_fr, dtype: int64"
      ]
     },
     "execution_count": 23,
     "metadata": {},
     "output_type": "execute_result"
    }
   ],
   "source": [
    "data.nutrition_grade_fr.value_counts()"
   ]
  },
  {
   "cell_type": "markdown",
   "id": "f980959e",
   "metadata": {},
   "source": [
    "Pour être utile dans notre score, nous transformons les \"string\" en \"catégories\". "
   ]
  },
  {
   "cell_type": "code",
   "execution_count": 24,
   "id": "f4274b7a",
   "metadata": {},
   "outputs": [],
   "source": [
    "scores = ['a','b','c','d','e']\n",
    "ordered_score = pd.api.types.CategoricalDtype(ordered = True,categories = scores)\n",
    "data['nutrition_grade_fr'] = data['nutrition_grade_fr'].astype(ordered_score)"
   ]
  },
  {
   "cell_type": "code",
   "execution_count": 25,
   "id": "060e0caf",
   "metadata": {},
   "outputs": [
    {
     "data": {
      "text/plain": [
       "CategoricalDtype(categories=['a', 'b', 'c', 'd', 'e'], ordered=True)"
      ]
     },
     "execution_count": 25,
     "metadata": {},
     "output_type": "execute_result"
    }
   ],
   "source": [
    "data.nutrition_grade_fr.dtypes"
   ]
  },
  {
   "cell_type": "markdown",
   "id": "afdafc84",
   "metadata": {},
   "source": [
    "Nous obtenons des grades sans NaN et pouvons donc tracer un diagramme circulaire pour représenter les catégories :"
   ]
  },
  {
   "cell_type": "code",
   "execution_count": 26,
   "id": "0807d774",
   "metadata": {},
   "outputs": [
    {
     "data": {
      "image/png": "[encoded data removed]",
      "text/plain": [
       "<Figure size 432x288 with 1 Axes>"
      ]
     },
     "metadata": {},
     "output_type": "display_data"
    }
   ],
   "source": [
    "proportion_grade = data[\"nutrition_grade_fr\"].value_counts() \n",
    "labels = proportion_grade.index\n",
    "fig, ax = plt.subplots()\n",
    "ax.pie(proportion_grade, labels=labels, autopct='%1.1f%%', shadow=True, startangle=90)\n",
    "ax.axis('equal')\n",
    "plt.show()"
   ]
  },
  {
   "cell_type": "code",
   "execution_count": 27,
   "id": "b4f54824",
   "metadata": {},
   "outputs": [
    {
     "data": {
      "text/plain": [
       "code                                         object\n",
       "url                                          object\n",
       "creator                                      object\n",
       "product_name                                 object\n",
       "quantity                                     object\n",
       "brands                                       object\n",
       "categories_fr                                object\n",
       "countries_fr                                 object\n",
       "ingredients_text                             object\n",
       "serving_size                                 object\n",
       "additives_n                                 float64\n",
       "additives_fr                                 object\n",
       "ingredients_from_palm_oil_n                 float64\n",
       "ingredients_that_may_be_from_palm_oil_n     float64\n",
       "nutrition_grade_fr                         category\n",
       "pnns_groups_1                                object\n",
       "pnns_groups_2                                object\n",
       "states_fr                                    object\n",
       "main_category_fr                             object\n",
       "energy_100g                                 float64\n",
       "fat_100g                                    float64\n",
       "saturated-fat_100g                          float64\n",
       "trans-fat_100g                              float64\n",
       "cholesterol_100g                            float64\n",
       "carbohydrates_100g                          float64\n",
       "sugars_100g                                 float64\n",
       "fiber_100g                                  float64\n",
       "proteins_100g                               float64\n",
       "salt_100g                                   float64\n",
       "sodium_100g                                 float64\n",
       "vitamin-a_100g                              float64\n",
       "vitamin-c_100g                              float64\n",
       "calcium_100g                                float64\n",
       "iron_100g                                   float64\n",
       "nutrition-score-fr_100g                       int32\n",
       "nutrition-score-uk_100g                     float64\n",
       "dtype: object"
      ]
     },
     "execution_count": 27,
     "metadata": {},
     "output_type": "execute_result"
    }
   ],
   "source": [
    "data.dtypes"
   ]
  },
  {
   "cell_type": "markdown",
   "id": "89dd5a69",
   "metadata": {},
   "source": [
    "5) Méthode de traitement des NaN : Par réduction des dimensions - Cette méthode ne permet pas d'imputer les valeurs énergetiques nécessaires. On va donc attribuer la valeur de 0 aux valeurs manquantes d'énergie, cela ne biaisera pas nos données étant donné qu'elles ne concernent que très peu de valeurs."
   ]
  },
  {
   "cell_type": "code",
   "execution_count": null,
   "id": "254c0799",
   "metadata": {},
   "outputs": [],
   "source": [
    "#On applique le KNN pour notre variable energie_100g\n",
    "#from sklearn.impute import KNNImputer\n",
    "#knn = ['energy_100g']\n",
    "#data_echantillon = data[knn].sample(frac=0.25, random_state=1)\n",
    "#imputer = KNNImputer(n_neighbors=5, missing_values=np.nan)\n",
    "#imputer.fit(data_echantillon)"
   ]
  },
  {
   "cell_type": "code",
   "execution_count": 30,
   "id": "3114ffcb",
   "metadata": {},
   "outputs": [],
   "source": [
    "# Puis on applique le modèle sur l'ensemble des données\n",
    "#data_apply = imputer.transform(data[knn])"
   ]
  },
  {
   "cell_type": "code",
   "execution_count": 31,
   "id": "9aa0330a",
   "metadata": {},
   "outputs": [],
   "source": [
    "#data_apply_df = pd.DataFrame(data_apply, columns=knn)"
   ]
  },
  {
   "cell_type": "code",
   "execution_count": 32,
   "id": "f407d32e",
   "metadata": {},
   "outputs": [
    {
     "data": {
      "text/html": [
       "<div>\n",
       "<style scoped>\n",
       "    .dataframe tbody tr th:only-of-type {\n",
       "        vertical-align: middle;\n",
       "    }\n",
       "\n",
       "    .dataframe tbody tr th {\n",
       "        vertical-align: top;\n",
       "    }\n",
       "\n",
       "    .dataframe thead th {\n",
       "        text-align: right;\n",
       "    }\n",
       "</style>\n",
       "<table border=\"1\" class=\"dataframe\">\n",
       "  <thead>\n",
       "    <tr style=\"text-align: right;\">\n",
       "      <th></th>\n",
       "      <th>energy_100g</th>\n",
       "    </tr>\n",
       "  </thead>\n",
       "  <tbody>\n",
       "    <tr>\n",
       "      <th>0</th>\n",
       "      <td>2243.0</td>\n",
       "    </tr>\n",
       "    <tr>\n",
       "      <th>1</th>\n",
       "      <td>1941.0</td>\n",
       "    </tr>\n",
       "    <tr>\n",
       "      <th>2</th>\n",
       "      <td>2540.0</td>\n",
       "    </tr>\n",
       "    <tr>\n",
       "      <th>3</th>\n",
       "      <td>1833.0</td>\n",
       "    </tr>\n",
       "    <tr>\n",
       "      <th>4</th>\n",
       "      <td>2230.0</td>\n",
       "    </tr>\n",
       "    <tr>\n",
       "      <th>...</th>\n",
       "      <td>...</td>\n",
       "    </tr>\n",
       "    <tr>\n",
       "      <th>218458</th>\n",
       "      <td>1477.0</td>\n",
       "    </tr>\n",
       "    <tr>\n",
       "      <th>218459</th>\n",
       "      <td>1643.0</td>\n",
       "    </tr>\n",
       "    <tr>\n",
       "      <th>218460</th>\n",
       "      <td>2406.0</td>\n",
       "    </tr>\n",
       "    <tr>\n",
       "      <th>218461</th>\n",
       "      <td>21.0</td>\n",
       "    </tr>\n",
       "    <tr>\n",
       "      <th>218462</th>\n",
       "      <td>0.0</td>\n",
       "    </tr>\n",
       "  </tbody>\n",
       "</table>\n",
       "<p>218463 rows × 1 columns</p>\n",
       "</div>"
      ],
      "text/plain": [
       "        energy_100g\n",
       "0            2243.0\n",
       "1            1941.0\n",
       "2            2540.0\n",
       "3            1833.0\n",
       "4            2230.0\n",
       "...             ...\n",
       "218458       1477.0\n",
       "218459       1643.0\n",
       "218460       2406.0\n",
       "218461         21.0\n",
       "218462          0.0\n",
       "\n",
       "[218463 rows x 1 columns]"
      ]
     },
     "execution_count": 32,
     "metadata": {},
     "output_type": "execute_result"
    }
   ],
   "source": [
    "#data_apply_df"
   ]
  },
  {
   "cell_type": "code",
   "execution_count": 33,
   "id": "8e4b7f81",
   "metadata": {},
   "outputs": [
    {
     "name": "stderr",
     "output_type": "stream",
     "text": [
      "C:\\Users\\nha5600\\Anaconda3\\lib\\site-packages\\pandas\\core\\indexing.py:1817: SettingWithCopyWarning: \n",
      "A value is trying to be set on a copy of a slice from a DataFrame.\n",
      "Try using .loc[row_indexer,col_indexer] = value instead\n",
      "\n",
      "See the caveats in the documentation: https://pandas.pydata.org/pandas-docs/stable/user_guide/indexing.html#returning-a-view-versus-a-copy\n",
      "  self._setitem_single_column(loc, value, pi)\n"
     ]
    }
   ],
   "source": [
    "#data.loc[data['energy_100g'].isna(), 'energy_100g'] = data['energy_100g'].mean()"
   ]
  },
  {
   "cell_type": "code",
   "execution_count": 28,
   "id": "4a7d32c7",
   "metadata": {},
   "outputs": [
    {
     "data": {
      "text/plain": [
       "1         2243.0\n",
       "2         1941.0\n",
       "3         2540.0\n",
       "7         1833.0\n",
       "12        2230.0\n",
       "           ...  \n",
       "320742    1477.0\n",
       "320751    1643.0\n",
       "320757    2406.0\n",
       "320763      21.0\n",
       "320768       0.0\n",
       "Name: energy_100g, Length: 218463, dtype: float64"
      ]
     },
     "execution_count": 28,
     "metadata": {},
     "output_type": "execute_result"
    }
   ],
   "source": [
    "data['energy_100g'].fillna(0)"
   ]
  },
  {
   "cell_type": "code",
   "execution_count": 29,
   "id": "caf86c9c",
   "metadata": {},
   "outputs": [
    {
     "data": {
      "text/plain": [
       "1         2243.0\n",
       "2         1941.0\n",
       "3         2540.0\n",
       "7         1833.0\n",
       "12        2230.0\n",
       "           ...  \n",
       "320742    1477.0\n",
       "320751    1643.0\n",
       "320757    2406.0\n",
       "320763      21.0\n",
       "320768       0.0\n",
       "Name: energy_100g, Length: 218463, dtype: float64"
      ]
     },
     "execution_count": 29,
     "metadata": {},
     "output_type": "execute_result"
    }
   ],
   "source": [
    "data['energy_100g']"
   ]
  },
  {
   "cell_type": "markdown",
   "id": "65347917",
   "metadata": {},
   "source": [
    "Méthode de traitement des NaN : Si on observe des valeurs manquantes au niveau des additifs et de l'huile de palme, nous considérerons par mesure de prévention qu'ils en contiennent. Nous utiliserons donc la moyenne de ces deux variables."
   ]
  },
  {
   "cell_type": "code",
   "execution_count": 30,
   "id": "668c5b4c",
   "metadata": {},
   "outputs": [],
   "source": [
    "data.loc[data['additives_n'].isna(), 'additives_n'] = data['additives_n'].mean()"
   ]
  },
  {
   "cell_type": "code",
   "execution_count": 31,
   "id": "0c1d7d74",
   "metadata": {},
   "outputs": [],
   "source": [
    "data.loc[data['ingredients_from_palm_oil_n'].isna(), 'ingredients_from_palm_oil_n'] = data['ingredients_from_palm_oil_n'].mean()"
   ]
  },
  {
   "cell_type": "code",
   "execution_count": 53,
   "id": "a3c3acc3",
   "metadata": {},
   "outputs": [],
   "source": [
    "data[\"additives_n\"]=data[\"additives_n\"].astype('int')\n",
    "data[\"ingredients_from_palm_oil_n\"]=data[\"ingredients_from_palm_oil_n\"].astype('int')"
   ]
  },
  {
   "cell_type": "code",
   "execution_count": 32,
   "id": "9f3b39b8",
   "metadata": {},
   "outputs": [
    {
     "data": {
      "text/plain": [
       "1         False\n",
       "2         False\n",
       "3         False\n",
       "7         False\n",
       "12        False\n",
       "          ...  \n",
       "320742    False\n",
       "320751    False\n",
       "320757    False\n",
       "320763    False\n",
       "320768    False\n",
       "Name: additives_n, Length: 218463, dtype: bool"
      ]
     },
     "execution_count": 32,
     "metadata": {},
     "output_type": "execute_result"
    }
   ],
   "source": [
    "data['additives_n'].isnull()"
   ]
  },
  {
   "cell_type": "markdown",
   "id": "091558df",
   "metadata": {},
   "source": [
    "# Gestion des outliers"
   ]
  },
  {
   "cell_type": "code",
   "execution_count": 35,
   "id": "f5c0e45c",
   "metadata": {},
   "outputs": [
    {
     "data": {
      "image/png": "[encoded data removed]",
      "text/plain": [
       "<Figure size 1440x720 with 1 Axes>"
      ]
     },
     "metadata": {
      "needs_background": "light"
     },
     "output_type": "display_data"
    }
   ],
   "source": [
    "import seaborn as sb\n",
    "plt.figure(figsize = [20,10])\n",
    "sb.boxplot(x=\"variable\", y=\"value\", data=data[Nutri_100g].melt())\n",
    "plt.title(\"Boxplot des valeurs nutritionnelles\")\n",
    "plt.ylim([0,60])\n",
    "plt.xlabel(\"\")\n",
    "plt.ylabel(\"[g/100g]\")\n",
    "plt.xticks(rotation = 90);\n",
    "plt.show()"
   ]
  },
  {
   "cell_type": "markdown",
   "id": "05dcf7e1",
   "metadata": {},
   "source": [
    "Nous traçons le boxplot de notre variable, pour identifier également la présence ou non d'outliers :"
   ]
  },
  {
   "cell_type": "code",
   "execution_count": 36,
   "id": "2de02acc",
   "metadata": {},
   "outputs": [
    {
     "data": {
      "image/png": "[encoded data removed]",
      "text/plain": [
       "<Figure size 432x288 with 1 Axes>"
      ]
     },
     "metadata": {
      "needs_background": "light"
     },
     "output_type": "display_data"
    }
   ],
   "source": [
    "sb.boxplot(x=\"variable\", y=\"value\", data=data[nutrition_score].melt())\n",
    "plt.title(\"Boxplot du nutrition_score\")\n",
    "plt.xlabel(\"\")\n",
    "plt.ylabel(\"Score\")\n",
    "plt.show()"
   ]
  },
  {
   "cell_type": "markdown",
   "id": "2e3aaa8a",
   "metadata": {},
   "source": [
    "Pas d'outliers pour le nutriscore, qui est censé être compris entre -15 et 40."
   ]
  },
  {
   "cell_type": "code",
   "execution_count": 41,
   "id": "04cb045a",
   "metadata": {},
   "outputs": [
    {
     "data": {
      "image/png": "[encoded data removed]",
      "text/plain": [
       "<Figure size 432x288 with 1 Axes>"
      ]
     },
     "metadata": {
      "needs_background": "light"
     },
     "output_type": "display_data"
    }
   ],
   "source": [
    "sns.boxplot(x=\"variable\", y=\"value\", data=data[energy].melt())\n",
    "plt.title(\"Boxplot du energy_100g\")\n",
    "plt.xlabel(\"\")\n",
    "plt.ylabel(\"Score\")\n",
    "plt.show()"
   ]
  },
  {
   "cell_type": "code",
   "execution_count": 42,
   "id": "ba54875d",
   "metadata": {},
   "outputs": [
    {
     "data": {
      "text/html": [
       "<div>\n",
       "<style scoped>\n",
       "    .dataframe tbody tr th:only-of-type {\n",
       "        vertical-align: middle;\n",
       "    }\n",
       "\n",
       "    .dataframe tbody tr th {\n",
       "        vertical-align: top;\n",
       "    }\n",
       "\n",
       "    .dataframe thead th {\n",
       "        text-align: right;\n",
       "    }\n",
       "</style>\n",
       "<table border=\"1\" class=\"dataframe\">\n",
       "  <thead>\n",
       "    <tr style=\"text-align: right;\">\n",
       "      <th></th>\n",
       "      <th>additives_n</th>\n",
       "      <th>ingredients_from_palm_oil_n</th>\n",
       "      <th>ingredients_that_may_be_from_palm_oil_n</th>\n",
       "      <th>energy_100g</th>\n",
       "      <th>fat_100g</th>\n",
       "      <th>saturated-fat_100g</th>\n",
       "      <th>trans-fat_100g</th>\n",
       "      <th>cholesterol_100g</th>\n",
       "      <th>carbohydrates_100g</th>\n",
       "      <th>sugars_100g</th>\n",
       "      <th>fiber_100g</th>\n",
       "      <th>proteins_100g</th>\n",
       "      <th>salt_100g</th>\n",
       "      <th>sodium_100g</th>\n",
       "      <th>vitamin-a_100g</th>\n",
       "      <th>vitamin-c_100g</th>\n",
       "      <th>calcium_100g</th>\n",
       "      <th>iron_100g</th>\n",
       "      <th>nutrition-score-fr_100g</th>\n",
       "      <th>nutrition-score-uk_100g</th>\n",
       "    </tr>\n",
       "  </thead>\n",
       "  <tbody>\n",
       "    <tr>\n",
       "      <th>count</th>\n",
       "      <td>218463.000000</td>\n",
       "      <td>218463.000000</td>\n",
       "      <td>194892.000000</td>\n",
       "      <td>2.182770e+05</td>\n",
       "      <td>201014.000000</td>\n",
       "      <td>218277.000000</td>\n",
       "      <td>135334.000000</td>\n",
       "      <td>137079.000000</td>\n",
       "      <td>200986.000000</td>\n",
       "      <td>218277.000000</td>\n",
       "      <td>191722.000000</td>\n",
       "      <td>218277.000000</td>\n",
       "      <td>218277.000000</td>\n",
       "      <td>218277.000000</td>\n",
       "      <td>131964.000000</td>\n",
       "      <td>132800.000000</td>\n",
       "      <td>135196.000000</td>\n",
       "      <td>134502.000000</td>\n",
       "      <td>218463.000000</td>\n",
       "      <td>218463.000000</td>\n",
       "    </tr>\n",
       "    <tr>\n",
       "      <th>mean</th>\n",
       "      <td>1.982698</td>\n",
       "      <td>0.020996</td>\n",
       "      <td>0.057037</td>\n",
       "      <td>1.195365e+03</td>\n",
       "      <td>13.336950</td>\n",
       "      <td>4.954429</td>\n",
       "      <td>0.071203</td>\n",
       "      <td>0.019241</td>\n",
       "      <td>33.250102</td>\n",
       "      <td>15.003938</td>\n",
       "      <td>2.829172</td>\n",
       "      <td>7.778697</td>\n",
       "      <td>1.646217</td>\n",
       "      <td>0.648117</td>\n",
       "      <td>0.000144</td>\n",
       "      <td>0.008269</td>\n",
       "      <td>0.112090</td>\n",
       "      <td>0.003103</td>\n",
       "      <td>9.151724</td>\n",
       "      <td>9.044406</td>\n",
       "    </tr>\n",
       "    <tr>\n",
       "      <th>std</th>\n",
       "      <td>2.387734</td>\n",
       "      <td>0.137030</td>\n",
       "      <td>0.274639</td>\n",
       "      <td>7.031278e+03</td>\n",
       "      <td>16.192683</td>\n",
       "      <td>7.650245</td>\n",
       "      <td>1.559398</td>\n",
       "      <td>0.366693</td>\n",
       "      <td>28.341996</td>\n",
       "      <td>21.191430</td>\n",
       "      <td>13.078246</td>\n",
       "      <td>8.131459</td>\n",
       "      <td>138.275500</td>\n",
       "      <td>54.439173</td>\n",
       "      <td>0.002323</td>\n",
       "      <td>0.437458</td>\n",
       "      <td>2.753802</td>\n",
       "      <td>0.172313</td>\n",
       "      <td>9.052588</td>\n",
       "      <td>9.180977</td>\n",
       "    </tr>\n",
       "    <tr>\n",
       "      <th>min</th>\n",
       "      <td>0.000000</td>\n",
       "      <td>0.000000</td>\n",
       "      <td>0.000000</td>\n",
       "      <td>0.000000e+00</td>\n",
       "      <td>0.000000</td>\n",
       "      <td>0.000000</td>\n",
       "      <td>-3.570000</td>\n",
       "      <td>0.000000</td>\n",
       "      <td>0.000000</td>\n",
       "      <td>-17.860000</td>\n",
       "      <td>0.000000</td>\n",
       "      <td>-3.570000</td>\n",
       "      <td>0.000000</td>\n",
       "      <td>0.000000</td>\n",
       "      <td>0.000000</td>\n",
       "      <td>-0.002100</td>\n",
       "      <td>0.000000</td>\n",
       "      <td>-0.000260</td>\n",
       "      <td>-15.000000</td>\n",
       "      <td>-15.000000</td>\n",
       "    </tr>\n",
       "    <tr>\n",
       "      <th>25%</th>\n",
       "      <td>0.000000</td>\n",
       "      <td>0.000000</td>\n",
       "      <td>0.000000</td>\n",
       "      <td>4.520000e+02</td>\n",
       "      <td>0.830750</td>\n",
       "      <td>0.000000</td>\n",
       "      <td>0.000000</td>\n",
       "      <td>0.000000</td>\n",
       "      <td>7.000000</td>\n",
       "      <td>1.280000</td>\n",
       "      <td>0.000000</td>\n",
       "      <td>1.900000</td>\n",
       "      <td>0.100000</td>\n",
       "      <td>0.039370</td>\n",
       "      <td>0.000000</td>\n",
       "      <td>0.000000</td>\n",
       "      <td>0.000000</td>\n",
       "      <td>0.000000</td>\n",
       "      <td>1.000000</td>\n",
       "      <td>1.000000</td>\n",
       "    </tr>\n",
       "    <tr>\n",
       "      <th>50%</th>\n",
       "      <td>1.982698</td>\n",
       "      <td>0.000000</td>\n",
       "      <td>0.000000</td>\n",
       "      <td>1.193000e+03</td>\n",
       "      <td>7.140000</td>\n",
       "      <td>1.790000</td>\n",
       "      <td>0.000000</td>\n",
       "      <td>0.000000</td>\n",
       "      <td>24.000000</td>\n",
       "      <td>5.000000</td>\n",
       "      <td>1.500000</td>\n",
       "      <td>5.700000</td>\n",
       "      <td>0.650000</td>\n",
       "      <td>0.255906</td>\n",
       "      <td>0.000000</td>\n",
       "      <td>0.000000</td>\n",
       "      <td>0.036000</td>\n",
       "      <td>0.001010</td>\n",
       "      <td>10.000000</td>\n",
       "      <td>9.000000</td>\n",
       "    </tr>\n",
       "    <tr>\n",
       "      <th>75%</th>\n",
       "      <td>3.000000</td>\n",
       "      <td>0.000000</td>\n",
       "      <td>0.000000</td>\n",
       "      <td>1.715000e+03</td>\n",
       "      <td>21.430000</td>\n",
       "      <td>7.140000</td>\n",
       "      <td>0.000000</td>\n",
       "      <td>0.020000</td>\n",
       "      <td>59.090000</td>\n",
       "      <td>23.000000</td>\n",
       "      <td>3.600000</td>\n",
       "      <td>10.710000</td>\n",
       "      <td>1.361440</td>\n",
       "      <td>0.536000</td>\n",
       "      <td>0.000101</td>\n",
       "      <td>0.002800</td>\n",
       "      <td>0.107000</td>\n",
       "      <td>0.002400</td>\n",
       "      <td>16.000000</td>\n",
       "      <td>16.000000</td>\n",
       "    </tr>\n",
       "    <tr>\n",
       "      <th>max</th>\n",
       "      <td>31.000000</td>\n",
       "      <td>2.000000</td>\n",
       "      <td>6.000000</td>\n",
       "      <td>3.251373e+06</td>\n",
       "      <td>714.290000</td>\n",
       "      <td>550.000000</td>\n",
       "      <td>369.000000</td>\n",
       "      <td>95.238000</td>\n",
       "      <td>209.380000</td>\n",
       "      <td>3520.000000</td>\n",
       "      <td>5380.000000</td>\n",
       "      <td>430.000000</td>\n",
       "      <td>64312.800000</td>\n",
       "      <td>25320.000000</td>\n",
       "      <td>0.800000</td>\n",
       "      <td>152.941200</td>\n",
       "      <td>694.737000</td>\n",
       "      <td>50.000000</td>\n",
       "      <td>40.000000</td>\n",
       "      <td>40.000000</td>\n",
       "    </tr>\n",
       "  </tbody>\n",
       "</table>\n",
       "</div>"
      ],
      "text/plain": [
       "         additives_n  ingredients_from_palm_oil_n  \\\n",
       "count  218463.000000                218463.000000   \n",
       "mean        1.982698                     0.020996   \n",
       "std         2.387734                     0.137030   \n",
       "min         0.000000                     0.000000   \n",
       "25%         0.000000                     0.000000   \n",
       "50%         1.982698                     0.000000   \n",
       "75%         3.000000                     0.000000   \n",
       "max        31.000000                     2.000000   \n",
       "\n",
       "       ingredients_that_may_be_from_palm_oil_n   energy_100g       fat_100g  \\\n",
       "count                            194892.000000  2.182770e+05  201014.000000   \n",
       "mean                                  0.057037  1.195365e+03      13.336950   \n",
       "std                                   0.274639  7.031278e+03      16.192683   \n",
       "min                                   0.000000  0.000000e+00       0.000000   \n",
       "25%                                   0.000000  4.520000e+02       0.830750   \n",
       "50%                                   0.000000  1.193000e+03       7.140000   \n",
       "75%                                   0.000000  1.715000e+03      21.430000   \n",
       "max                                   6.000000  3.251373e+06     714.290000   \n",
       "\n",
       "       saturated-fat_100g  trans-fat_100g  cholesterol_100g  \\\n",
       "count       218277.000000   135334.000000     137079.000000   \n",
       "mean             4.954429        0.071203          0.019241   \n",
       "std              7.650245        1.559398          0.366693   \n",
       "min              0.000000       -3.570000          0.000000   \n",
       "25%              0.000000        0.000000          0.000000   \n",
       "50%              1.790000        0.000000          0.000000   \n",
       "75%              7.140000        0.000000          0.020000   \n",
       "max            550.000000      369.000000         95.238000   \n",
       "\n",
       "       carbohydrates_100g    sugars_100g     fiber_100g  proteins_100g  \\\n",
       "count       200986.000000  218277.000000  191722.000000  218277.000000   \n",
       "mean            33.250102      15.003938       2.829172       7.778697   \n",
       "std             28.341996      21.191430      13.078246       8.131459   \n",
       "min              0.000000     -17.860000       0.000000      -3.570000   \n",
       "25%              7.000000       1.280000       0.000000       1.900000   \n",
       "50%             24.000000       5.000000       1.500000       5.700000   \n",
       "75%             59.090000      23.000000       3.600000      10.710000   \n",
       "max            209.380000    3520.000000    5380.000000     430.000000   \n",
       "\n",
       "           salt_100g    sodium_100g  vitamin-a_100g  vitamin-c_100g  \\\n",
       "count  218277.000000  218277.000000   131964.000000   132800.000000   \n",
       "mean        1.646217       0.648117        0.000144        0.008269   \n",
       "std       138.275500      54.439173        0.002323        0.437458   \n",
       "min         0.000000       0.000000        0.000000       -0.002100   \n",
       "25%         0.100000       0.039370        0.000000        0.000000   \n",
       "50%         0.650000       0.255906        0.000000        0.000000   \n",
       "75%         1.361440       0.536000        0.000101        0.002800   \n",
       "max     64312.800000   25320.000000        0.800000      152.941200   \n",
       "\n",
       "        calcium_100g      iron_100g  nutrition-score-fr_100g  \\\n",
       "count  135196.000000  134502.000000            218463.000000   \n",
       "mean        0.112090       0.003103                 9.151724   \n",
       "std         2.753802       0.172313                 9.052588   \n",
       "min         0.000000      -0.000260               -15.000000   \n",
       "25%         0.000000       0.000000                 1.000000   \n",
       "50%         0.036000       0.001010                10.000000   \n",
       "75%         0.107000       0.002400                16.000000   \n",
       "max       694.737000      50.000000                40.000000   \n",
       "\n",
       "       nutrition-score-uk_100g  \n",
       "count            218463.000000  \n",
       "mean                  9.044406  \n",
       "std                   9.180977  \n",
       "min                 -15.000000  \n",
       "25%                   1.000000  \n",
       "50%                   9.000000  \n",
       "75%                  16.000000  \n",
       "max                  40.000000  "
      ]
     },
     "execution_count": 42,
     "metadata": {},
     "output_type": "execute_result"
    }
   ],
   "source": [
    "data.describe()"
   ]
  },
  {
   "cell_type": "markdown",
   "id": "cc5a0963",
   "metadata": {},
   "source": [
    "Les variables suffixées avec _100g nous indiquent la quantité de nutriment pour 100 grammes de produit. Les valeurs renseignées ne peuvent donc logiquement pas excéder 100. Nous allons donc supprimer les lignes dont au moins 1 des variables de nutriments est supérieur au seuil.\n",
    "Par ailleurs, l'énergie pour 100g ne doit pas être supérieure à 37 kJ(https://en.wikipedia.org/wiki/Food_energy) d'où notre limite à 3700J.\n",
    "Nous pouvons soumettre le nombre d'additifs à un nombre maximal, mais aucune source ne concorde à un nombre maximal d'additifs par produit.Nous traçons donc une répartition pour avoir le seuil maximal dans notre dataset."
   ]
  },
  {
   "cell_type": "code",
   "execution_count": 43,
   "id": "3c2c9d5b",
   "metadata": {},
   "outputs": [],
   "source": [
    "data = data[~(data[Nutri_100g]>100).any(axis=1)]"
   ]
  },
  {
   "cell_type": "code",
   "execution_count": 44,
   "id": "291fa040",
   "metadata": {},
   "outputs": [],
   "source": [
    "data = data[~(data[Nutri_100g]<0).any(axis=1)]"
   ]
  },
  {
   "cell_type": "code",
   "execution_count": 45,
   "id": "8018e2f8",
   "metadata": {},
   "outputs": [],
   "source": [
    "data = data[~(data['energy_100g']>3700)]"
   ]
  },
  {
   "cell_type": "markdown",
   "id": "726fe8ab",
   "metadata": {},
   "source": [
    "Nous pouvons soumettre le nombre d'additifs à un nombre maximal, mais aucune source ne concorde à un nombre maximal d'additifs par produit. D’après notre vision et nos recherches, on soumet le nombre d’additifs maximal à 6 par produit."
   ]
  },
  {
   "cell_type": "code",
   "execution_count": 47,
   "id": "86e9b787",
   "metadata": {},
   "outputs": [],
   "source": [
    "data = data[~(data['additives_n']>6)]"
   ]
  },
  {
   "cell_type": "code",
   "execution_count": 48,
   "id": "7426ca76",
   "metadata": {},
   "outputs": [
    {
     "data": {
      "text/plain": [
       "(206506, 36)"
      ]
     },
     "execution_count": 48,
     "metadata": {},
     "output_type": "execute_result"
    }
   ],
   "source": [
    "data.shape"
   ]
  },
  {
   "cell_type": "code",
   "execution_count": 56,
   "id": "d63d0a87",
   "metadata": {},
   "outputs": [
    {
     "data": {
      "text/html": [
       "<div>\n",
       "<style scoped>\n",
       "    .dataframe tbody tr th:only-of-type {\n",
       "        vertical-align: middle;\n",
       "    }\n",
       "\n",
       "    .dataframe tbody tr th {\n",
       "        vertical-align: top;\n",
       "    }\n",
       "\n",
       "    .dataframe thead th {\n",
       "        text-align: right;\n",
       "    }\n",
       "</style>\n",
       "<table border=\"1\" class=\"dataframe\">\n",
       "  <thead>\n",
       "    <tr style=\"text-align: right;\">\n",
       "      <th></th>\n",
       "      <th>code</th>\n",
       "      <th>url</th>\n",
       "      <th>creator</th>\n",
       "      <th>product_name</th>\n",
       "      <th>quantity</th>\n",
       "      <th>brands</th>\n",
       "      <th>categories_fr</th>\n",
       "      <th>countries_fr</th>\n",
       "      <th>ingredients_text</th>\n",
       "      <th>serving_size</th>\n",
       "      <th>...</th>\n",
       "      <th>fiber_100g</th>\n",
       "      <th>proteins_100g</th>\n",
       "      <th>salt_100g</th>\n",
       "      <th>sodium_100g</th>\n",
       "      <th>vitamin-a_100g</th>\n",
       "      <th>vitamin-c_100g</th>\n",
       "      <th>calcium_100g</th>\n",
       "      <th>iron_100g</th>\n",
       "      <th>nutrition-score-fr_100g</th>\n",
       "      <th>nutrition-score-uk_100g</th>\n",
       "    </tr>\n",
       "  </thead>\n",
       "  <tbody>\n",
       "    <tr>\n",
       "      <th>1</th>\n",
       "      <td>0000000004530</td>\n",
       "      <td>http://world-fr.openfoodfacts.org/produit/0000...</td>\n",
       "      <td>usda-ndb-import</td>\n",
       "      <td>Banana Chips Sweetened (Whole)</td>\n",
       "      <td>NaN</td>\n",
       "      <td>NaN</td>\n",
       "      <td>NaN</td>\n",
       "      <td>États-Unis</td>\n",
       "      <td>Bananas, vegetable oil (coconut oil, corn oil ...</td>\n",
       "      <td>28 g (1 ONZ)</td>\n",
       "      <td>...</td>\n",
       "      <td>3.6</td>\n",
       "      <td>3.57</td>\n",
       "      <td>0.00000</td>\n",
       "      <td>0.000000</td>\n",
       "      <td>0.0</td>\n",
       "      <td>0.0214</td>\n",
       "      <td>0.000</td>\n",
       "      <td>0.00129</td>\n",
       "      <td>14</td>\n",
       "      <td>14.0</td>\n",
       "    </tr>\n",
       "    <tr>\n",
       "      <th>2</th>\n",
       "      <td>0000000004559</td>\n",
       "      <td>http://world-fr.openfoodfacts.org/produit/0000...</td>\n",
       "      <td>usda-ndb-import</td>\n",
       "      <td>Peanuts</td>\n",
       "      <td>NaN</td>\n",
       "      <td>Torn &amp; Glasser</td>\n",
       "      <td>NaN</td>\n",
       "      <td>États-Unis</td>\n",
       "      <td>Peanuts, wheat flour, sugar, rice flour, tapio...</td>\n",
       "      <td>28 g (0.25 cup)</td>\n",
       "      <td>...</td>\n",
       "      <td>7.1</td>\n",
       "      <td>17.86</td>\n",
       "      <td>0.63500</td>\n",
       "      <td>0.250000</td>\n",
       "      <td>0.0</td>\n",
       "      <td>0.0000</td>\n",
       "      <td>0.071</td>\n",
       "      <td>0.00129</td>\n",
       "      <td>0</td>\n",
       "      <td>0.0</td>\n",
       "    </tr>\n",
       "    <tr>\n",
       "      <th>3</th>\n",
       "      <td>0000000016087</td>\n",
       "      <td>http://world-fr.openfoodfacts.org/produit/0000...</td>\n",
       "      <td>usda-ndb-import</td>\n",
       "      <td>Organic Salted Nut Mix</td>\n",
       "      <td>NaN</td>\n",
       "      <td>Grizzlies</td>\n",
       "      <td>NaN</td>\n",
       "      <td>États-Unis</td>\n",
       "      <td>Organic hazelnuts, organic cashews, organic wa...</td>\n",
       "      <td>28 g (0.25 cup)</td>\n",
       "      <td>...</td>\n",
       "      <td>7.1</td>\n",
       "      <td>17.86</td>\n",
       "      <td>1.22428</td>\n",
       "      <td>0.482000</td>\n",
       "      <td>0.0</td>\n",
       "      <td>0.0000</td>\n",
       "      <td>0.143</td>\n",
       "      <td>0.00514</td>\n",
       "      <td>12</td>\n",
       "      <td>12.0</td>\n",
       "    </tr>\n",
       "    <tr>\n",
       "      <th>7</th>\n",
       "      <td>0000000016124</td>\n",
       "      <td>http://world-fr.openfoodfacts.org/produit/0000...</td>\n",
       "      <td>usda-ndb-import</td>\n",
       "      <td>Organic Muesli</td>\n",
       "      <td>NaN</td>\n",
       "      <td>Daddy's Muesli</td>\n",
       "      <td>NaN</td>\n",
       "      <td>États-Unis</td>\n",
       "      <td>Org oats, org hemp granola (org oats, evaporat...</td>\n",
       "      <td>64 g (0.5 cup)</td>\n",
       "      <td>...</td>\n",
       "      <td>9.4</td>\n",
       "      <td>14.06</td>\n",
       "      <td>0.13970</td>\n",
       "      <td>0.055000</td>\n",
       "      <td>0.0</td>\n",
       "      <td>0.0000</td>\n",
       "      <td>0.062</td>\n",
       "      <td>0.00422</td>\n",
       "      <td>7</td>\n",
       "      <td>7.0</td>\n",
       "    </tr>\n",
       "    <tr>\n",
       "      <th>12</th>\n",
       "      <td>0000000016872</td>\n",
       "      <td>http://world-fr.openfoodfacts.org/produit/0000...</td>\n",
       "      <td>usda-ndb-import</td>\n",
       "      <td>Zen Party Mix</td>\n",
       "      <td>NaN</td>\n",
       "      <td>Sunridge</td>\n",
       "      <td>NaN</td>\n",
       "      <td>États-Unis</td>\n",
       "      <td>Roasted peanuts (peanuts, peanut or canola oil...</td>\n",
       "      <td>30 g (0.25 cup)</td>\n",
       "      <td>...</td>\n",
       "      <td>6.7</td>\n",
       "      <td>16.67</td>\n",
       "      <td>1.60782</td>\n",
       "      <td>0.633000</td>\n",
       "      <td>0.0</td>\n",
       "      <td>0.0000</td>\n",
       "      <td>0.133</td>\n",
       "      <td>0.00360</td>\n",
       "      <td>12</td>\n",
       "      <td>12.0</td>\n",
       "    </tr>\n",
       "    <tr>\n",
       "      <th>...</th>\n",
       "      <td>...</td>\n",
       "      <td>...</td>\n",
       "      <td>...</td>\n",
       "      <td>...</td>\n",
       "      <td>...</td>\n",
       "      <td>...</td>\n",
       "      <td>...</td>\n",
       "      <td>...</td>\n",
       "      <td>...</td>\n",
       "      <td>...</td>\n",
       "      <td>...</td>\n",
       "      <td>...</td>\n",
       "      <td>...</td>\n",
       "      <td>...</td>\n",
       "      <td>...</td>\n",
       "      <td>...</td>\n",
       "      <td>...</td>\n",
       "      <td>...</td>\n",
       "      <td>...</td>\n",
       "      <td>...</td>\n",
       "      <td>...</td>\n",
       "    </tr>\n",
       "    <tr>\n",
       "      <th>320742</th>\n",
       "      <td>9787461062105</td>\n",
       "      <td>http://world-fr.openfoodfacts.org/produit/9787...</td>\n",
       "      <td>usda-ndb-import</td>\n",
       "      <td>Natural Cassava</td>\n",
       "      <td>NaN</td>\n",
       "      <td>Industria De Casabe Paul</td>\n",
       "      <td>NaN</td>\n",
       "      <td>États-Unis</td>\n",
       "      <td>Cassava.</td>\n",
       "      <td>85 g (85 GRM)</td>\n",
       "      <td>...</td>\n",
       "      <td>4.7</td>\n",
       "      <td>1.18</td>\n",
       "      <td>0.03048</td>\n",
       "      <td>0.012000</td>\n",
       "      <td>0.0</td>\n",
       "      <td>0.0000</td>\n",
       "      <td>0.000</td>\n",
       "      <td>0.00127</td>\n",
       "      <td>-1</td>\n",
       "      <td>-1.0</td>\n",
       "    </tr>\n",
       "    <tr>\n",
       "      <th>320751</th>\n",
       "      <td>9847548283004</td>\n",
       "      <td>http://world-fr.openfoodfacts.org/produit/9847...</td>\n",
       "      <td>drmalabar</td>\n",
       "      <td>Tartines craquantes bio au sarrasin</td>\n",
       "      <td>NaN</td>\n",
       "      <td>Le Pain des fleurs</td>\n",
       "      <td>Aliments et boissons à base de végétaux,Alimen...</td>\n",
       "      <td>France</td>\n",
       "      <td>NaN</td>\n",
       "      <td>NaN</td>\n",
       "      <td>...</td>\n",
       "      <td>5.9</td>\n",
       "      <td>13.00</td>\n",
       "      <td>0.68000</td>\n",
       "      <td>0.267717</td>\n",
       "      <td>0.0</td>\n",
       "      <td>0.0000</td>\n",
       "      <td>0.035</td>\n",
       "      <td>0.00380</td>\n",
       "      <td>-4</td>\n",
       "      <td>-4.0</td>\n",
       "    </tr>\n",
       "    <tr>\n",
       "      <th>320757</th>\n",
       "      <td>9900000000233</td>\n",
       "      <td>http://world-fr.openfoodfacts.org/produit/9900...</td>\n",
       "      <td>kiliweb</td>\n",
       "      <td>Amandes</td>\n",
       "      <td>NaN</td>\n",
       "      <td>Biosic</td>\n",
       "      <td>NaN</td>\n",
       "      <td>France</td>\n",
       "      <td>NaN</td>\n",
       "      <td>NaN</td>\n",
       "      <td>...</td>\n",
       "      <td>12.2</td>\n",
       "      <td>21.22</td>\n",
       "      <td>0.10000</td>\n",
       "      <td>0.039370</td>\n",
       "      <td>0.0</td>\n",
       "      <td>0.0000</td>\n",
       "      <td>0.035</td>\n",
       "      <td>0.00102</td>\n",
       "      <td>0</td>\n",
       "      <td>0.0</td>\n",
       "    </tr>\n",
       "    <tr>\n",
       "      <th>320763</th>\n",
       "      <td>99111250</td>\n",
       "      <td>http://world-fr.openfoodfacts.org/produit/9911...</td>\n",
       "      <td>balooval</td>\n",
       "      <td>Thé vert Earl grey</td>\n",
       "      <td>50 g</td>\n",
       "      <td>Lobodis</td>\n",
       "      <td>Aliments et boissons à base de végétaux,Boisso...</td>\n",
       "      <td>France</td>\n",
       "      <td>thé vert, arôme naturel bergamote avec autres ...</td>\n",
       "      <td>NaN</td>\n",
       "      <td>...</td>\n",
       "      <td>0.2</td>\n",
       "      <td>0.50</td>\n",
       "      <td>0.02540</td>\n",
       "      <td>0.010000</td>\n",
       "      <td>0.0</td>\n",
       "      <td>0.0000</td>\n",
       "      <td>0.035</td>\n",
       "      <td>0.00102</td>\n",
       "      <td>2</td>\n",
       "      <td>0.0</td>\n",
       "    </tr>\n",
       "    <tr>\n",
       "      <th>320768</th>\n",
       "      <td>99567453</td>\n",
       "      <td>http://world-fr.openfoodfacts.org/produit/9956...</td>\n",
       "      <td>usda-ndb-import</td>\n",
       "      <td>Mint Melange Tea A Blend Of Peppermint, Lemon ...</td>\n",
       "      <td>NaN</td>\n",
       "      <td>Trader Joe's</td>\n",
       "      <td>NaN</td>\n",
       "      <td>États-Unis</td>\n",
       "      <td>Organic peppermint, organic lemon grass, organ...</td>\n",
       "      <td>20 g (0.7 oz)</td>\n",
       "      <td>...</td>\n",
       "      <td>0.0</td>\n",
       "      <td>0.00</td>\n",
       "      <td>0.00000</td>\n",
       "      <td>0.000000</td>\n",
       "      <td>0.0</td>\n",
       "      <td>0.0000</td>\n",
       "      <td>0.000</td>\n",
       "      <td>0.00000</td>\n",
       "      <td>0</td>\n",
       "      <td>0.0</td>\n",
       "    </tr>\n",
       "  </tbody>\n",
       "</table>\n",
       "<p>206506 rows × 36 columns</p>\n",
       "</div>"
      ],
      "text/plain": [
       "                 code                                                url  \\\n",
       "1       0000000004530  http://world-fr.openfoodfacts.org/produit/0000...   \n",
       "2       0000000004559  http://world-fr.openfoodfacts.org/produit/0000...   \n",
       "3       0000000016087  http://world-fr.openfoodfacts.org/produit/0000...   \n",
       "7       0000000016124  http://world-fr.openfoodfacts.org/produit/0000...   \n",
       "12      0000000016872  http://world-fr.openfoodfacts.org/produit/0000...   \n",
       "...               ...                                                ...   \n",
       "320742  9787461062105  http://world-fr.openfoodfacts.org/produit/9787...   \n",
       "320751  9847548283004  http://world-fr.openfoodfacts.org/produit/9847...   \n",
       "320757  9900000000233  http://world-fr.openfoodfacts.org/produit/9900...   \n",
       "320763       99111250  http://world-fr.openfoodfacts.org/produit/9911...   \n",
       "320768       99567453  http://world-fr.openfoodfacts.org/produit/9956...   \n",
       "\n",
       "                creator                                       product_name  \\\n",
       "1       usda-ndb-import                     Banana Chips Sweetened (Whole)   \n",
       "2       usda-ndb-import                                            Peanuts   \n",
       "3       usda-ndb-import                             Organic Salted Nut Mix   \n",
       "7       usda-ndb-import                                     Organic Muesli   \n",
       "12      usda-ndb-import                                      Zen Party Mix   \n",
       "...                 ...                                                ...   \n",
       "320742  usda-ndb-import                                    Natural Cassava   \n",
       "320751        drmalabar                Tartines craquantes bio au sarrasin   \n",
       "320757          kiliweb                                            Amandes   \n",
       "320763         balooval                                 Thé vert Earl grey   \n",
       "320768  usda-ndb-import  Mint Melange Tea A Blend Of Peppermint, Lemon ...   \n",
       "\n",
       "       quantity                    brands  \\\n",
       "1           NaN                       NaN   \n",
       "2           NaN            Torn & Glasser   \n",
       "3           NaN                 Grizzlies   \n",
       "7           NaN            Daddy's Muesli   \n",
       "12          NaN                  Sunridge   \n",
       "...         ...                       ...   \n",
       "320742      NaN  Industria De Casabe Paul   \n",
       "320751      NaN        Le Pain des fleurs   \n",
       "320757      NaN                    Biosic   \n",
       "320763     50 g                   Lobodis   \n",
       "320768      NaN              Trader Joe's   \n",
       "\n",
       "                                            categories_fr countries_fr  \\\n",
       "1                                                     NaN   États-Unis   \n",
       "2                                                     NaN   États-Unis   \n",
       "3                                                     NaN   États-Unis   \n",
       "7                                                     NaN   États-Unis   \n",
       "12                                                    NaN   États-Unis   \n",
       "...                                                   ...          ...   \n",
       "320742                                                NaN   États-Unis   \n",
       "320751  Aliments et boissons à base de végétaux,Alimen...       France   \n",
       "320757                                                NaN       France   \n",
       "320763  Aliments et boissons à base de végétaux,Boisso...       France   \n",
       "320768                                                NaN   États-Unis   \n",
       "\n",
       "                                         ingredients_text     serving_size  \\\n",
       "1       Bananas, vegetable oil (coconut oil, corn oil ...     28 g (1 ONZ)   \n",
       "2       Peanuts, wheat flour, sugar, rice flour, tapio...  28 g (0.25 cup)   \n",
       "3       Organic hazelnuts, organic cashews, organic wa...  28 g (0.25 cup)   \n",
       "7       Org oats, org hemp granola (org oats, evaporat...   64 g (0.5 cup)   \n",
       "12      Roasted peanuts (peanuts, peanut or canola oil...  30 g (0.25 cup)   \n",
       "...                                                   ...              ...   \n",
       "320742                                           Cassava.    85 g (85 GRM)   \n",
       "320751                                                NaN              NaN   \n",
       "320757                                                NaN              NaN   \n",
       "320763  thé vert, arôme naturel bergamote avec autres ...              NaN   \n",
       "320768  Organic peppermint, organic lemon grass, organ...    20 g (0.7 oz)   \n",
       "\n",
       "        ...  fiber_100g proteins_100g  salt_100g  sodium_100g vitamin-a_100g  \\\n",
       "1       ...         3.6          3.57    0.00000     0.000000            0.0   \n",
       "2       ...         7.1         17.86    0.63500     0.250000            0.0   \n",
       "3       ...         7.1         17.86    1.22428     0.482000            0.0   \n",
       "7       ...         9.4         14.06    0.13970     0.055000            0.0   \n",
       "12      ...         6.7         16.67    1.60782     0.633000            0.0   \n",
       "...     ...         ...           ...        ...          ...            ...   \n",
       "320742  ...         4.7          1.18    0.03048     0.012000            0.0   \n",
       "320751  ...         5.9         13.00    0.68000     0.267717            0.0   \n",
       "320757  ...        12.2         21.22    0.10000     0.039370            0.0   \n",
       "320763  ...         0.2          0.50    0.02540     0.010000            0.0   \n",
       "320768  ...         0.0          0.00    0.00000     0.000000            0.0   \n",
       "\n",
       "       vitamin-c_100g calcium_100g iron_100g nutrition-score-fr_100g  \\\n",
       "1              0.0214        0.000   0.00129                      14   \n",
       "2              0.0000        0.071   0.00129                       0   \n",
       "3              0.0000        0.143   0.00514                      12   \n",
       "7              0.0000        0.062   0.00422                       7   \n",
       "12             0.0000        0.133   0.00360                      12   \n",
       "...               ...          ...       ...                     ...   \n",
       "320742         0.0000        0.000   0.00127                      -1   \n",
       "320751         0.0000        0.035   0.00380                      -4   \n",
       "320757         0.0000        0.035   0.00102                       0   \n",
       "320763         0.0000        0.035   0.00102                       2   \n",
       "320768         0.0000        0.000   0.00000                       0   \n",
       "\n",
       "        nutrition-score-uk_100g  \n",
       "1                          14.0  \n",
       "2                           0.0  \n",
       "3                          12.0  \n",
       "7                           7.0  \n",
       "12                         12.0  \n",
       "...                         ...  \n",
       "320742                     -1.0  \n",
       "320751                     -4.0  \n",
       "320757                      0.0  \n",
       "320763                      0.0  \n",
       "320768                      0.0  \n",
       "\n",
       "[206506 rows x 36 columns]"
      ]
     },
     "execution_count": 56,
     "metadata": {},
     "output_type": "execute_result"
    }
   ],
   "source": [
    "data"
   ]
  },
  {
   "cell_type": "code",
   "execution_count": 50,
   "id": "de4056a8",
   "metadata": {},
   "outputs": [
    {
     "data": {
      "text/html": [
       "<div>\n",
       "<style scoped>\n",
       "    .dataframe tbody tr th:only-of-type {\n",
       "        vertical-align: middle;\n",
       "    }\n",
       "\n",
       "    .dataframe tbody tr th {\n",
       "        vertical-align: top;\n",
       "    }\n",
       "\n",
       "    .dataframe thead th {\n",
       "        text-align: right;\n",
       "    }\n",
       "</style>\n",
       "<table border=\"1\" class=\"dataframe\">\n",
       "  <thead>\n",
       "    <tr style=\"text-align: right;\">\n",
       "      <th></th>\n",
       "      <th>additives_n</th>\n",
       "      <th>ingredients_from_palm_oil_n</th>\n",
       "      <th>ingredients_that_may_be_from_palm_oil_n</th>\n",
       "      <th>energy_100g</th>\n",
       "      <th>fat_100g</th>\n",
       "      <th>saturated-fat_100g</th>\n",
       "      <th>trans-fat_100g</th>\n",
       "      <th>cholesterol_100g</th>\n",
       "      <th>carbohydrates_100g</th>\n",
       "      <th>sugars_100g</th>\n",
       "      <th>fiber_100g</th>\n",
       "      <th>proteins_100g</th>\n",
       "      <th>salt_100g</th>\n",
       "      <th>sodium_100g</th>\n",
       "      <th>vitamin-a_100g</th>\n",
       "      <th>vitamin-c_100g</th>\n",
       "      <th>calcium_100g</th>\n",
       "      <th>iron_100g</th>\n",
       "      <th>nutrition-score-fr_100g</th>\n",
       "      <th>nutrition-score-uk_100g</th>\n",
       "    </tr>\n",
       "  </thead>\n",
       "  <tbody>\n",
       "    <tr>\n",
       "      <th>count</th>\n",
       "      <td>206506.000000</td>\n",
       "      <td>206506.000000</td>\n",
       "      <td>183136.000000</td>\n",
       "      <td>206334.000000</td>\n",
       "      <td>189285.000000</td>\n",
       "      <td>206334.000000</td>\n",
       "      <td>127148.000000</td>\n",
       "      <td>128965.000000</td>\n",
       "      <td>189270.000000</td>\n",
       "      <td>206334.000000</td>\n",
       "      <td>181455.000000</td>\n",
       "      <td>206334.000000</td>\n",
       "      <td>206334.000000</td>\n",
       "      <td>206334.000000</td>\n",
       "      <td>124067.000000</td>\n",
       "      <td>124903.000000</td>\n",
       "      <td>127184.000000</td>\n",
       "      <td>126499.000000</td>\n",
       "      <td>206506.000000</td>\n",
       "      <td>206506.000000</td>\n",
       "    </tr>\n",
       "    <tr>\n",
       "      <th>mean</th>\n",
       "      <td>1.580887</td>\n",
       "      <td>0.018390</td>\n",
       "      <td>0.041876</td>\n",
       "      <td>1170.224068</td>\n",
       "      <td>13.479147</td>\n",
       "      <td>4.982162</td>\n",
       "      <td>0.060338</td>\n",
       "      <td>0.019151</td>\n",
       "      <td>32.567460</td>\n",
       "      <td>14.630556</td>\n",
       "      <td>2.858253</td>\n",
       "      <td>7.879698</td>\n",
       "      <td>1.244990</td>\n",
       "      <td>0.490154</td>\n",
       "      <td>0.000146</td>\n",
       "      <td>0.006997</td>\n",
       "      <td>0.097511</td>\n",
       "      <td>0.003060</td>\n",
       "      <td>9.021999</td>\n",
       "      <td>8.910274</td>\n",
       "    </tr>\n",
       "    <tr>\n",
       "      <th>std</th>\n",
       "      <td>1.570684</td>\n",
       "      <td>0.126326</td>\n",
       "      <td>0.229358</td>\n",
       "      <td>764.919741</td>\n",
       "      <td>16.135444</td>\n",
       "      <td>7.512235</td>\n",
       "      <td>0.925663</td>\n",
       "      <td>0.335579</td>\n",
       "      <td>28.221772</td>\n",
       "      <td>19.556623</td>\n",
       "      <td>4.545010</td>\n",
       "      <td>8.194346</td>\n",
       "      <td>4.027536</td>\n",
       "      <td>1.585640</td>\n",
       "      <td>0.002385</td>\n",
       "      <td>0.125701</td>\n",
       "      <td>0.458429</td>\n",
       "      <td>0.176393</td>\n",
       "      <td>9.120341</td>\n",
       "      <td>9.249676</td>\n",
       "    </tr>\n",
       "    <tr>\n",
       "      <th>min</th>\n",
       "      <td>0.000000</td>\n",
       "      <td>0.000000</td>\n",
       "      <td>0.000000</td>\n",
       "      <td>0.000000</td>\n",
       "      <td>0.000000</td>\n",
       "      <td>0.000000</td>\n",
       "      <td>0.000000</td>\n",
       "      <td>0.000000</td>\n",
       "      <td>0.000000</td>\n",
       "      <td>0.000000</td>\n",
       "      <td>0.000000</td>\n",
       "      <td>0.000000</td>\n",
       "      <td>0.000000</td>\n",
       "      <td>0.000000</td>\n",
       "      <td>0.000000</td>\n",
       "      <td>0.000000</td>\n",
       "      <td>0.000000</td>\n",
       "      <td>0.000000</td>\n",
       "      <td>-15.000000</td>\n",
       "      <td>-15.000000</td>\n",
       "    </tr>\n",
       "    <tr>\n",
       "      <th>25%</th>\n",
       "      <td>0.000000</td>\n",
       "      <td>0.000000</td>\n",
       "      <td>0.000000</td>\n",
       "      <td>444.000000</td>\n",
       "      <td>0.820000</td>\n",
       "      <td>0.000000</td>\n",
       "      <td>0.000000</td>\n",
       "      <td>0.000000</td>\n",
       "      <td>6.670000</td>\n",
       "      <td>1.200000</td>\n",
       "      <td>0.000000</td>\n",
       "      <td>1.800000</td>\n",
       "      <td>0.100000</td>\n",
       "      <td>0.039370</td>\n",
       "      <td>0.000000</td>\n",
       "      <td>0.000000</td>\n",
       "      <td>0.000000</td>\n",
       "      <td>0.000000</td>\n",
       "      <td>1.000000</td>\n",
       "      <td>1.000000</td>\n",
       "    </tr>\n",
       "    <tr>\n",
       "      <th>50%</th>\n",
       "      <td>1.000000</td>\n",
       "      <td>0.000000</td>\n",
       "      <td>0.000000</td>\n",
       "      <td>1180.000000</td>\n",
       "      <td>7.140000</td>\n",
       "      <td>1.790000</td>\n",
       "      <td>0.000000</td>\n",
       "      <td>0.000000</td>\n",
       "      <td>22.470000</td>\n",
       "      <td>4.920000</td>\n",
       "      <td>1.500000</td>\n",
       "      <td>5.730000</td>\n",
       "      <td>0.635000</td>\n",
       "      <td>0.250000</td>\n",
       "      <td>0.000000</td>\n",
       "      <td>0.000000</td>\n",
       "      <td>0.035000</td>\n",
       "      <td>0.001020</td>\n",
       "      <td>9.000000</td>\n",
       "      <td>9.000000</td>\n",
       "    </tr>\n",
       "    <tr>\n",
       "      <th>75%</th>\n",
       "      <td>2.000000</td>\n",
       "      <td>0.000000</td>\n",
       "      <td>0.000000</td>\n",
       "      <td>1732.000000</td>\n",
       "      <td>22.000000</td>\n",
       "      <td>7.140000</td>\n",
       "      <td>0.000000</td>\n",
       "      <td>0.020000</td>\n",
       "      <td>58.180000</td>\n",
       "      <td>22.000000</td>\n",
       "      <td>3.600000</td>\n",
       "      <td>11.000000</td>\n",
       "      <td>1.361440</td>\n",
       "      <td>0.536000</td>\n",
       "      <td>0.000105</td>\n",
       "      <td>0.002800</td>\n",
       "      <td>0.105000</td>\n",
       "      <td>0.002400</td>\n",
       "      <td>16.000000</td>\n",
       "      <td>16.000000</td>\n",
       "    </tr>\n",
       "    <tr>\n",
       "      <th>max</th>\n",
       "      <td>6.000000</td>\n",
       "      <td>2.000000</td>\n",
       "      <td>4.000000</td>\n",
       "      <td>3700.000000</td>\n",
       "      <td>100.000000</td>\n",
       "      <td>100.000000</td>\n",
       "      <td>100.000000</td>\n",
       "      <td>95.238000</td>\n",
       "      <td>100.000000</td>\n",
       "      <td>100.000000</td>\n",
       "      <td>100.000000</td>\n",
       "      <td>100.000000</td>\n",
       "      <td>100.000000</td>\n",
       "      <td>39.370079</td>\n",
       "      <td>0.800000</td>\n",
       "      <td>35.714300</td>\n",
       "      <td>82.000000</td>\n",
       "      <td>50.000000</td>\n",
       "      <td>40.000000</td>\n",
       "      <td>37.000000</td>\n",
       "    </tr>\n",
       "  </tbody>\n",
       "</table>\n",
       "</div>"
      ],
      "text/plain": [
       "         additives_n  ingredients_from_palm_oil_n  \\\n",
       "count  206506.000000                206506.000000   \n",
       "mean        1.580887                     0.018390   \n",
       "std         1.570684                     0.126326   \n",
       "min         0.000000                     0.000000   \n",
       "25%         0.000000                     0.000000   \n",
       "50%         1.000000                     0.000000   \n",
       "75%         2.000000                     0.000000   \n",
       "max         6.000000                     2.000000   \n",
       "\n",
       "       ingredients_that_may_be_from_palm_oil_n    energy_100g       fat_100g  \\\n",
       "count                            183136.000000  206334.000000  189285.000000   \n",
       "mean                                  0.041876    1170.224068      13.479147   \n",
       "std                                   0.229358     764.919741      16.135444   \n",
       "min                                   0.000000       0.000000       0.000000   \n",
       "25%                                   0.000000     444.000000       0.820000   \n",
       "50%                                   0.000000    1180.000000       7.140000   \n",
       "75%                                   0.000000    1732.000000      22.000000   \n",
       "max                                   4.000000    3700.000000     100.000000   \n",
       "\n",
       "       saturated-fat_100g  trans-fat_100g  cholesterol_100g  \\\n",
       "count       206334.000000   127148.000000     128965.000000   \n",
       "mean             4.982162        0.060338          0.019151   \n",
       "std              7.512235        0.925663          0.335579   \n",
       "min              0.000000        0.000000          0.000000   \n",
       "25%              0.000000        0.000000          0.000000   \n",
       "50%              1.790000        0.000000          0.000000   \n",
       "75%              7.140000        0.000000          0.020000   \n",
       "max            100.000000      100.000000         95.238000   \n",
       "\n",
       "       carbohydrates_100g    sugars_100g     fiber_100g  proteins_100g  \\\n",
       "count       189270.000000  206334.000000  181455.000000  206334.000000   \n",
       "mean            32.567460      14.630556       2.858253       7.879698   \n",
       "std             28.221772      19.556623       4.545010       8.194346   \n",
       "min              0.000000       0.000000       0.000000       0.000000   \n",
       "25%              6.670000       1.200000       0.000000       1.800000   \n",
       "50%             22.470000       4.920000       1.500000       5.730000   \n",
       "75%             58.180000      22.000000       3.600000      11.000000   \n",
       "max            100.000000     100.000000     100.000000     100.000000   \n",
       "\n",
       "           salt_100g    sodium_100g  vitamin-a_100g  vitamin-c_100g  \\\n",
       "count  206334.000000  206334.000000   124067.000000   124903.000000   \n",
       "mean        1.244990       0.490154        0.000146        0.006997   \n",
       "std         4.027536       1.585640        0.002385        0.125701   \n",
       "min         0.000000       0.000000        0.000000        0.000000   \n",
       "25%         0.100000       0.039370        0.000000        0.000000   \n",
       "50%         0.635000       0.250000        0.000000        0.000000   \n",
       "75%         1.361440       0.536000        0.000105        0.002800   \n",
       "max       100.000000      39.370079        0.800000       35.714300   \n",
       "\n",
       "        calcium_100g      iron_100g  nutrition-score-fr_100g  \\\n",
       "count  127184.000000  126499.000000            206506.000000   \n",
       "mean        0.097511       0.003060                 9.021999   \n",
       "std         0.458429       0.176393                 9.120341   \n",
       "min         0.000000       0.000000               -15.000000   \n",
       "25%         0.000000       0.000000                 1.000000   \n",
       "50%         0.035000       0.001020                 9.000000   \n",
       "75%         0.105000       0.002400                16.000000   \n",
       "max        82.000000      50.000000                40.000000   \n",
       "\n",
       "       nutrition-score-uk_100g  \n",
       "count            206506.000000  \n",
       "mean                  8.910274  \n",
       "std                   9.249676  \n",
       "min                 -15.000000  \n",
       "25%                   1.000000  \n",
       "50%                   9.000000  \n",
       "75%                  16.000000  \n",
       "max                  37.000000  "
      ]
     },
     "execution_count": 50,
     "metadata": {},
     "output_type": "execute_result"
    }
   ],
   "source": [
    "data.describe()"
   ]
  },
  {
   "cell_type": "markdown",
   "id": "e7fafa76",
   "metadata": {},
   "source": [
    "# Export en CSV"
   ]
  },
  {
   "cell_type": "code",
   "execution_count": 57,
   "id": "31e7d2c5",
   "metadata": {},
   "outputs": [],
   "source": [
    "data.to_csv(\"nutri_nettoyé.csv\", index=False)"
   ]
  },
  {
   "cell_type": "code",
   "execution_count": null,
   "id": "f4c5f5f3",
   "metadata": {},
   "outputs": [],
   "source": []
  }
 ],
 "metadata": {
  "kernelspec": {
   "display_name": "Python 3 (ipykernel)",
   "language": "python",
   "name": "python3"
  },
  "language_info": {
   "codemirror_mode": {
    "name": "ipython",
    "version": 3
   },
   "file_extension": ".py",
   "mimetype": "text/x-python",
   "name": "python",
   "nbconvert_exporter": "python",
   "pygments_lexer": "ipython3",
   "version": "3.9.7"
  }
 },
 "nbformat": 4,
 "nbformat_minor": 5
}
